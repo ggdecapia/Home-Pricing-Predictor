{
 "cells": [
  {
   "cell_type": "code",
   "execution_count": null,
   "metadata": {},
   "outputs": [],
   "source": [
    "# Set the seed value for the notebook so the results are reproducible\n",
    "from numpy.random import seed\n",
    "seed(1)"
   ]
  },
  {
   "cell_type": "code",
   "execution_count": null,
   "metadata": {
    "slideshow": {
     "slide_type": "subslide"
    }
   },
   "outputs": [],
   "source": [
    "# Dependencies\n",
    "import numpy as np\n",
    "import pandas as pd\n",
    "import datetime as dt"
   ]
  },
  {
   "cell_type": "code",
   "execution_count": null,
   "metadata": {},
   "outputs": [],
   "source": [
    "import tensorflow\n",
    "tensorflow.keras.__version__\n",
    "from sklearn.preprocessing import LabelEncoder, MinMaxScaler, StandardScaler"
   ]
  },
  {
   "cell_type": "code",
   "execution_count": null,
   "metadata": {
    "slideshow": {
     "slide_type": "fragment"
    }
   },
   "outputs": [],
   "source": [
    "houses = pd.read_csv('Resources/home_data.csv')\n",
    "\n",
    "cut_labels_20 = ['<125k', '125-150k', '150k-175k', '175k-200k', \n",
    "                 '200k-220k', '220k-240k', '240k-260k', '260k-280k', '280k-300k',\n",
    "                 '300k-320k', '320k-340k', '340k-360k', '360k-380k', '380k-400k', \n",
    "                 '400k-420k', '420k-440k', '440k-460k', '460k-480k', '480k-500k', \n",
    "                 '500k+']\n",
    "cut_bins = [0, 125000, 150000, 175000, \n",
    "            200000, 220000, 240000, 260000, 280000, \n",
    "            300000, 320000, 340000, 360000, 380000, \n",
    "            400000, 420000, 440000, 460000, 480000,\n",
    "            500000, 10000000]\n"
   ]
  },
  {
   "cell_type": "markdown",
   "metadata": {
    "slideshow": {
     "slide_type": "subslide"
    }
   },
   "source": [
    "## Data Pre-Processing"
   ]
  },
  {
   "cell_type": "code",
   "execution_count": null,
   "metadata": {},
   "outputs": [],
   "source": [
    "# Add Price Range Labels\n",
    "houses[\"price_range\"] = pd.cut(houses['price'], bins=cut_bins, labels=cut_labels_20)"
   ]
  },
  {
   "cell_type": "code",
   "execution_count": null,
   "metadata": {},
   "outputs": [],
   "source": [
    "# Add Label Encoded the zipcode data\n",
    "label_encoder = LabelEncoder()\n",
    "label_encoder.fit(houses[\"zipcode\"])\n",
    "houses[\"labeled_zipcode\"] = label_encoder.transform(houses[\"zipcode\"])\n",
    "\n",
    "houses[\"day_sold\"] = pd.to_datetime(houses[\"date\"]).map(dt.datetime.toordinal)"
   ]
  },
  {
   "cell_type": "code",
   "execution_count": null,
   "metadata": {},
   "outputs": [],
   "source": [
    "#X_trimmed = houses[[\"bedrooms\",\"bathrooms\",\"sqft_living\",\"sqft_lot\",\"floors\",\"waterfront\",\"view\",\"condition\",\"grade\",\"sqft_above\",\"sqft_basement\",\"yr_built\",\"yr_renovated\",\"zipcode\"]]\n",
    "#X_trimmed = houses.drop([\"id\",\"date\",\"price\",\"zipcode\",\"lat\",\"long\",\"sqft_living15\",\"sqft_lot15\",\"price_range\"], axis=1)\n",
    "#X_trimmed = houses.drop([\"id\",\"date\",\"price\",\"waterfront\",\"view\",\"yr_renovated\",\"zipcode\",\"lat\",\"long\",\"sqft_living15\",\"sqft_lot15\",\"price_range\"], axis=1)\n",
    "X_coords = houses.drop([\"id\",\"date\",\"price\",\"waterfront\",\"view\",\"yr_renovated\",\"zipcode\",\"sqft_living15\",\"sqft_lot15\",\"price_range\",\"labeled_zipcode\"], axis=1)\n",
    "X_zipcodes = houses.drop([\"id\",\"date\",\"price\",\"waterfront\",\"view\",\"yr_renovated\",\"zipcode\",\"lat\",\"long\",\"sqft_living15\",\"sqft_lot15\",\"price_range\"], axis=1)\n",
    "X_coords_15 = houses.drop([\"id\",\"date\",\"price\",\"waterfront\",\"view\",\"yr_renovated\",\"zipcode\",\"price_range\",\"labeled_zipcode\"], axis=1)\n",
    "X_coords_15_only = houses.drop([\"id\",\"date\",\"price\",\"sqft_living\",\"sqft_lot\",\"waterfront\",\"view\",\"yr_renovated\",\"zipcode\",\"price_range\",\"labeled_zipcode\"], axis=1)\n",
    "\n",
    "X_coords_ss = houses.drop([\"id\",\"date\",\"price\",\"waterfront\",\"view\",\"yr_renovated\",\"zipcode\",\"sqft_living15\",\"sqft_lot15\",\"price_range\",\"labeled_zipcode\",\"day_sold\"], axis=1)\n",
    "\n",
    "\n",
    "#X_trimmed = X_zipcodes\n",
    "#X_trimmed = X_coords\n",
    "X_trimmed = X_coords_15\n",
    "#X_trimmed = X_coords_15_only\n",
    "\n",
    "X_trimmed = X_coords_ss\n",
    "\n",
    "y_prices = houses[\"price\"]\n",
    "y_ranges = houses[\"price_range\"]"
   ]
  },
  {
   "cell_type": "code",
   "execution_count": null,
   "metadata": {},
   "outputs": [],
   "source": []
  },
  {
   "cell_type": "markdown",
   "metadata": {
    "slideshow": {
     "slide_type": "subslide"
    }
   },
   "source": [
    "## Data Exploration"
   ]
  },
  {
   "cell_type": "code",
   "execution_count": null,
   "metadata": {},
   "outputs": [],
   "source": [
    "houses.drop([\"id\",\"date\",\"price\",\"waterfront\",\"view\"], axis=1).describe()\n",
    "houses.drop([\"id\",\"date\",\"waterfront\",\"view\",\"condition\",\"grade\",\"zipcode\",\"price_range\",\"labeled_zipcode\",\"lat\",\"long\"], axis=1).head(10)\n"
   ]
  },
  {
   "cell_type": "code",
   "execution_count": null,
   "metadata": {},
   "outputs": [],
   "source": [
    "X_trimmed.head(1)"
   ]
  },
  {
   "cell_type": "code",
   "execution_count": null,
   "metadata": {},
   "outputs": [],
   "source": [
    "# Data\n",
    "y_prices.describe"
   ]
  },
  {
   "cell_type": "code",
   "execution_count": null,
   "metadata": {},
   "outputs": [],
   "source": [
    "y_prices.plot(kind=\"hist\")"
   ]
  },
  {
   "cell_type": "code",
   "execution_count": null,
   "metadata": {},
   "outputs": [],
   "source": [
    "# Filter out expensive houses here if we want to \n",
    "\n",
    "affordable = houses[houses[\"price\"] <= 1000000][\"price\"]\n",
    "affordable.plot(kind=\"hist\")"
   ]
  },
  {
   "cell_type": "code",
   "execution_count": null,
   "metadata": {},
   "outputs": [],
   "source": [
    "affordable.describe()"
   ]
  },
  {
   "cell_type": "code",
   "execution_count": null,
   "metadata": {},
   "outputs": [],
   "source": [
    "houses.shape"
   ]
  },
  {
   "cell_type": "code",
   "execution_count": null,
   "metadata": {
    "nbgrader": {
     "grade": false,
     "grade_id": "cell-86a9e3212f200d21",
     "locked": false,
     "schema_version": 1,
     "solution": true
    },
    "slideshow": {
     "slide_type": "subslide"
    }
   },
   "outputs": [],
   "source": [
    "#X = houses.drop([\"price\", \"date\"], axis=1)\n",
    "y = houses[\"price\"].values.reshape(-1,1)\n",
    "print(X_trimmed.shape, y.shape)\n"
   ]
  },
  {
   "cell_type": "code",
   "execution_count": null,
   "metadata": {},
   "outputs": [],
   "source": [
    "y_prices = houses[\"price\"]\n",
    "y_prices.head()"
   ]
  },
  {
   "cell_type": "code",
   "execution_count": null,
   "metadata": {},
   "outputs": [],
   "source": []
  },
  {
   "cell_type": "markdown",
   "metadata": {
    "slideshow": {
     "slide_type": "subslide"
    }
   },
   "source": [
    "## Encoding and Splitting Data"
   ]
  },
  {
   "cell_type": "code",
   "execution_count": null,
   "metadata": {},
   "outputs": [],
   "source": [
    "from sklearn.model_selection import train_test_split\n",
    "from tensorflow.keras.utils import to_categorical\n",
    "from tensorflow.keras.models import load_model\n"
   ]
  },
  {
   "cell_type": "code",
   "execution_count": null,
   "metadata": {
    "nbgrader": {
     "grade": false,
     "grade_id": "cell-711a82d9b32c83ff",
     "locked": false,
     "schema_version": 1,
     "solution": true
    },
    "slideshow": {
     "slide_type": "fragment"
    }
   },
   "outputs": [],
   "source": [
    "# We use this code only when we are trying to use binning of the y data\n",
    "# Step 1: Label-encode data set\n",
    "#label_encoder = LabelEncoder()\n",
    "#label_encoder.fit(y_ranges)\n",
    "#encoded_y_train = label_encoder.transform(y_train)\n",
    "#encoded_y_test = label_encoder.transform(y_test)\n"
   ]
  },
  {
   "cell_type": "code",
   "execution_count": null,
   "metadata": {
    "nbgrader": {
     "grade": false,
     "grade_id": "cell-711a82d9b32c83ff",
     "locked": false,
     "schema_version": 1,
     "solution": true
    },
    "slideshow": {
     "slide_type": "fragment"
    }
   },
   "outputs": [],
   "source": [
    "# We use this code only when we are trying to use binning of the y data\n",
    "# Step 2: Convert encoded labels to one-hot-encoding\n",
    "#y_train_categorical = to_categorical(encoded_y_train)\n",
    "#y_test_categorical = to_categorical(encoded_y_test)\n",
    "#y_train_categorical"
   ]
  },
  {
   "cell_type": "code",
   "execution_count": null,
   "metadata": {},
   "outputs": [],
   "source": [
    "# LabelEncode the zipcode data\n"
   ]
  },
  {
   "cell_type": "code",
   "execution_count": null,
   "metadata": {},
   "outputs": [],
   "source": [
    "X_train, X_test, y_train, y_test = train_test_split(\n",
    "    X_trimmed, y_prices, random_state=42)"
   ]
  },
  {
   "cell_type": "code",
   "execution_count": null,
   "metadata": {},
   "outputs": [],
   "source": [
    "y_train"
   ]
  },
  {
   "cell_type": "code",
   "execution_count": null,
   "metadata": {},
   "outputs": [],
   "source": [
    "y_test"
   ]
  },
  {
   "cell_type": "code",
   "execution_count": null,
   "metadata": {},
   "outputs": [],
   "source": [
    "X_scaler = StandardScaler().fit(X_train)\n",
    "X_train_scaled = X_scaler.transform(X_train)\n",
    "X_test_scaled = X_scaler.transform(X_test)"
   ]
  },
  {
   "cell_type": "code",
   "execution_count": null,
   "metadata": {},
   "outputs": [],
   "source": [
    "from joblib import dump\n",
    "dump(X_scaler, 'Trained_Models/std_scaler.bin', compress=True)"
   ]
  },
  {
   "cell_type": "markdown",
   "metadata": {},
   "source": [
    "# Create a Deep Learning Model"
   ]
  },
  {
   "cell_type": "code",
   "execution_count": null,
   "metadata": {},
   "outputs": [],
   "source": [
    "from tensorflow.keras.models import Sequential\n",
    "from tensorflow.keras.layers import Dense\n",
    "from sklearn.metrics import r2_score\n",
    "import pickle"
   ]
  },
  {
   "cell_type": "code",
   "execution_count": null,
   "metadata": {},
   "outputs": [],
   "source": [
    "# Create model and add layers\n",
    "multiplier = 4\n",
    "num_of_layers = 5\n",
    "\n",
    "#mid_activation = \"relu\"   # Dom tells us to use this one\n",
    "mid_activation = \"selu\"\n",
    "\n",
    "#final_activation = \"softmax\"  # Classification\n",
    "final_activation = \"linear\"\n",
    "\n",
    "num_inputs = X_train_scaled[0].size\n",
    "num_units = multiplier * num_inputs\n",
    "\n",
    "model = Sequential()\n",
    "model.add(Dense(units=num_units, activation=mid_activation, input_dim=num_inputs))\n",
    "model.add(Dense(units=num_units, activation=mid_activation))\n",
    "model.add(Dense(units=num_units, activation=mid_activation))\n",
    "\n",
    "#model.add(Dense(units=20, activation='softmax'))  # Classification\n",
    "model.add(Dense(units=1, activation=final_activation))"
   ]
  },
  {
   "cell_type": "code",
   "execution_count": null,
   "metadata": {},
   "outputs": [],
   "source": [
    "# Compile and fit the model\n",
    "#model.compile(optimizer='adam',\n",
    "#              loss='categorical_crossentropy',\n",
    "#              metrics=['accuracy'])\n",
    "\n",
    "# Compile and fit the model\n",
    "model.compile(optimizer='adam',\n",
    "              loss='mean_squared_error'#,\n",
    "              #metrics=['accuracy']\n",
    "             )"
   ]
  },
  {
   "cell_type": "code",
   "execution_count": null,
   "metadata": {},
   "outputs": [],
   "source": [
    "model.summary()"
   ]
  },
  {
   "cell_type": "code",
   "execution_count": null,
   "metadata": {
    "scrolled": false
   },
   "outputs": [],
   "source": [
    "model.fit(\n",
    "    #X_train_scaled,\n",
    "    #y_train_categorical,\n",
    "    X_train_scaled,\n",
    "    y_train,\n",
    "    epochs=10,\n",
    "    shuffle=True,\n",
    "    verbose=2\n",
    ")\n"
   ]
  },
  {
   "cell_type": "code",
   "execution_count": null,
   "metadata": {},
   "outputs": [],
   "source": []
  },
  {
   "cell_type": "markdown",
   "metadata": {},
   "source": [
    "## Quantify our Trained Model"
   ]
  },
  {
   "cell_type": "code",
   "execution_count": null,
   "metadata": {},
   "outputs": [],
   "source": [
    "#model_loss, model_accuracy = model.evaluate(\n",
    "#    X_test, y_test_categorical, verbose=2)\n",
    "\n",
    "#model_loss, model_accuracy = model.evaluate(\n",
    "#    X_test_scaled, y_test, verbose=2)\n",
    "\n",
    "y_train_pred = model.predict(X_train_scaled)\n",
    "y_test_pred = model.predict(X_test_scaled)\n",
    "\n",
    "train_value = r2_score(y_train, y_train_pred)\n",
    "test_value = r2_score(y_test, y_test_pred)\n",
    "\n",
    "#print(\n",
    "#    f\"Normal Neural Network - Loss: {model_loss}, Accuracy: {model_accuracy}\")\n",
    "\n",
    "#print(train_value)\n",
    "#print(test_value)\n",
    "\n",
    "str_train_value = \"{:.2f}\".format(train_value * 100)\n",
    "str_test_value = \"{:.2f}\".format(test_value * 100)\n",
    "\n",
    "print(\"This model accounts for\", str_train_value, \"% of the training data forces on price.\")\n",
    "print(\"This model accounts for\", str_test_value, \"% of the test data forces on price.\")\n"
   ]
  },
  {
   "cell_type": "markdown",
   "metadata": {},
   "source": [
    "## Save our Trained Model"
   ]
  },
  {
   "cell_type": "code",
   "execution_count": null,
   "metadata": {},
   "outputs": [],
   "source": [
    "model.save(\"Trained_Models/chris_trained_model.h5\")"
   ]
  },
  {
   "cell_type": "code",
   "execution_count": null,
   "metadata": {},
   "outputs": [],
   "source": [
    "model.save(\"chris_trained_model.sav\")"
   ]
  },
  {
   "cell_type": "markdown",
   "metadata": {},
   "source": [
    "## Load our Trained Model"
   ]
  },
  {
   "cell_type": "code",
   "execution_count": null,
   "metadata": {},
   "outputs": [],
   "source": [
    "model = load_model(\"Trained_Models/chris_best_model.h5\")"
   ]
  },
  {
   "cell_type": "code",
   "execution_count": null,
   "metadata": {},
   "outputs": [],
   "source": [
    "#my_search = X_trimmed.head(1)\n",
    "#model.predict(my_search)"
   ]
  },
  {
   "cell_type": "code",
   "execution_count": null,
   "metadata": {},
   "outputs": [],
   "source": [
    "[['3', '1', '1180', '5650', '1', '7', '3', '1180', '0', '1955', '47.5112', '-122.257']]\n",
    "X_trimmed.head(1)"
   ]
  },
  {
   "cell_type": "code",
   "execution_count": null,
   "metadata": {},
   "outputs": [],
   "source": [
    "model.predict(X_trimmed.head(1))"
   ]
  },
  {
   "cell_type": "code",
   "execution_count": null,
   "metadata": {},
   "outputs": [],
   "source": [
    "model.predict(X_scaler.transform(X_trimmed.head(1)))"
   ]
  },
  {
   "cell_type": "code",
   "execution_count": null,
   "metadata": {},
   "outputs": [],
   "source": [
    "conds = [[3, 2, 2000, 5000, 1, 3, 7, 1600, 400, 1985, 47.5112, -122.257]]\n",
    "\n",
    "df = pd.DataFrame(data=conds, index=[\"row1\"], columns=[\"bedrooms\", \"bathrooms\", \"sqft_living\", \"sqft_lot\", \n",
    "                                                       \"floors\", \"condition\", \"grade\", \"sqft_above\", \"sqft_basement\",\n",
    "                                                       \"yr_built\", \"latitude\", \"longitude\"])\n",
    "model.predict(conds)"
   ]
  },
  {
   "cell_type": "code",
   "execution_count": null,
   "metadata": {},
   "outputs": [],
   "source": [
    "model.predict(df)"
   ]
  },
  {
   "cell_type": "code",
   "execution_count": null,
   "metadata": {},
   "outputs": [],
   "source": [
    "model.predict(X_scaler.transform(df))"
   ]
  },
  {
   "cell_type": "code",
   "execution_count": null,
   "metadata": {},
   "outputs": [],
   "source": [
    "model.predict(X_scaler.transform(conds))"
   ]
  },
  {
   "cell_type": "code",
   "execution_count": null,
   "metadata": {},
   "outputs": [],
   "source": [
    "model.predict(X_scaler.transform(X_trimmed.head(1)))"
   ]
  },
  {
   "cell_type": "code",
   "execution_count": null,
   "metadata": {},
   "outputs": [],
   "source": [
    "y_prices.head(1)"
   ]
  },
  {
   "cell_type": "code",
   "execution_count": null,
   "metadata": {},
   "outputs": [],
   "source": [
    "#model_loss, model_accuracy = model.evaluate(\n",
    "#    X_test, y_test_categorical, verbose=2)\n",
    "\n",
    "#model_loss, model_accuracy = model.evaluate(\n",
    "#    X_test_scaled, y_test, verbose=2)\n",
    "\n",
    "y_train_pred = model.predict(X_train_scaled)\n",
    "y_test_pred = model.predict(X_test_scaled)\n",
    "\n",
    "train_value = r2_score(y_train, y_train_pred)\n",
    "test_value = r2_score(y_test, y_test_pred)\n",
    "\n",
    "#print(\n",
    "#    f\"Normal Neural Network - Loss: {model_loss}, Accuracy: {model_accuracy}\")\n",
    "\n",
    "#print(train_value)\n",
    "#print(test_value)\n",
    "\n",
    "str_train_value = \"{:.2f}\".format(train_value * 100)\n",
    "str_test_value = \"{:.2f}\".format(test_value * 100)\n",
    "\n",
    "print(\"This model accounts for\", str_train_value, \"% of the training data forces on price.\")\n",
    "print(\"This model accounts for\", str_test_value, \"% of the test data forces on price.\")\n"
   ]
  },
  {
   "cell_type": "code",
   "execution_count": null,
   "metadata": {},
   "outputs": [],
   "source": []
  },
  {
   "cell_type": "markdown",
   "metadata": {
    "slideshow": {
     "slide_type": "subslide"
    }
   },
   "source": [
    "## Make Predictions"
   ]
  },
  {
   "cell_type": "code",
   "execution_count": null,
   "metadata": {
    "nbgrader": {
     "grade": false,
     "grade_id": "cell-f97eb3e97245187b",
     "locked": false,
     "schema_version": 1,
     "solution": true
    },
    "scrolled": true,
    "slideshow": {
     "slide_type": "fragment"
    }
   },
   "outputs": [],
   "source": [
    "encoded_predictions = model.predict_classes(X_test[:100])\n",
    "prediction_labels = label_encoder.inverse_transform(encoded_predictions)\n",
    "prediction_labels"
   ]
  },
  {
   "cell_type": "code",
   "execution_count": null,
   "metadata": {},
   "outputs": [],
   "source": [
    "encoded_predictions = model.predict_classes(X_test)\n",
    "prediction_labels = label_encoder.inverse_transform(encoded_predictions)\n",
    "prediction_labels"
   ]
  },
  {
   "cell_type": "code",
   "execution_count": null,
   "metadata": {},
   "outputs": [],
   "source": [
    "print(f\"Predicted classes: {prediction_labels}\")\n",
    "print(f\"Actual Labels: {list(y_test_categorical[:20])}\")"
   ]
  },
  {
   "cell_type": "code",
   "execution_count": null,
   "metadata": {},
   "outputs": [],
   "source": [
    "to_categorical y_test_categorical[:20]"
   ]
  },
  {
   "cell_type": "code",
   "execution_count": null,
   "metadata": {},
   "outputs": [],
   "source": [
    "label_encoder.inverse_transform(y_test_categorical[:20])"
   ]
  },
  {
   "cell_type": "code",
   "execution_count": null,
   "metadata": {},
   "outputs": [],
   "source": []
  },
  {
   "cell_type": "markdown",
   "metadata": {},
   "source": [
    "## WARNING - This is for finding a better model than others"
   ]
  },
  {
   "cell_type": "code",
   "execution_count": null,
   "metadata": {},
   "outputs": [],
   "source": [
    "###############################################\n",
    "### WARNING! This is for parametric study!  ###\n",
    "### This will take a very long time to run! ###\n",
    "###############################################\n",
    "\n",
    "list_of_multipliers = [3, 4, 5]\n",
    "list_of_num_of_layers = [2, 3, 4, 5, 6]\n",
    "list_of_middle_layer_activations = [\"relu\",\"selu\"]\n",
    "list_of_final_activations = [\"linear\"]\n",
    "\n",
    "list_of_multipliers = [4, 5, 6]\n",
    "list_of_num_of_layers = [4, 5, 6, 7]\n",
    "\n",
    "num_inputs = X_train_scaled[0].size\n",
    "epoch_start = 20\n",
    "epoch_inc = 10\n",
    "epoch_stop = 200\n",
    "\n",
    "verbosity = 0\n",
    "\n",
    "this_is_not_a_drill = True\n",
    "base_file_name = \"Parametric_Study_Models/retest_trained_linear_coords_\" \n",
    "\n",
    "\n",
    "for mid_activation in list_of_middle_layer_activations:\n",
    "\n",
    "    activation_file_name = f\"{mid_activation}_\"\n",
    "    for multiplier in list_of_multipliers:\n",
    "\n",
    "        num_units = multiplier * num_inputs\n",
    "\n",
    "        for num_of_layers in list_of_num_of_layers:\n",
    "\n",
    "            ### Construct the model layers ###\n",
    "            \n",
    "            #print(\"New Model\")\n",
    "            model = Sequential()\n",
    "            #print(\"Adding first layer\")\n",
    "            model.add(Dense(units=num_units, activation=mid_activation, input_dim=num_inputs))\n",
    "            multiplier_file_name = f\"{multiplier}x\"\n",
    "\n",
    "            for i in range(num_of_layers-1):\n",
    "\n",
    "                #print(\"Adding another layer\")\n",
    "                model.add(Dense(units=num_units, activation=mid_activation))\n",
    "                multiplier_file_name += f\"{multiplier}x\"\n",
    "\n",
    "            #print(\"Adding final layer\")\n",
    "            #model.add(Dense(units=20, activation='softmax'))  # Classification\n",
    "            model.add(Dense(units=1, activation='linear'))  # Regression\n",
    "        \n",
    "        \n",
    "            ### Compile the Model ###\n",
    "            \n",
    "            if this_is_not_a_drill:\n",
    "                model.compile(optimizer='adam',\n",
    "                    loss='mean_squared_error'#,\n",
    "                    #metrics=['accuracy']\n",
    "                    )\n",
    "    \n",
    "            if not this_is_not_a_drill:\n",
    "                model.summary()\n",
    "    \n",
    "            ### Begin fitting the model ###\n",
    "        \n",
    "            First_Pass = True\n",
    "            epoch_cnt = epoch_start\n",
    "            \n",
    "            ### Continue to increase the epochs and measure the r2 incrementally ###\n",
    "            while epoch_cnt <= epoch_stop:\n",
    "\n",
    "                if First_Pass:\n",
    "                    First_Pass = False\n",
    "                    epoch_file_name = f\"{epoch_start}_\"\n",
    "                    if this_is_not_a_drill:\n",
    "                        model.fit(\n",
    "                            X_train_scaled,\n",
    "                            y_train,\n",
    "                            epochs=epoch_start,\n",
    "                            shuffle=True,\n",
    "                            verbose=verbosity\n",
    "                            )\n",
    "                else:\n",
    "                    epoch_file_name = f\"{epoch_cnt}_\"\n",
    "                    if this_is_not_a_drill:\n",
    "                        model.fit(\n",
    "                            X_train_scaled,\n",
    "                            y_train,\n",
    "                            epochs=epoch_inc,\n",
    "                            shuffle=True,\n",
    "                            verbose=verbosity\n",
    "                            )\n",
    "\n",
    "                ### Evaluate the model's performance ###\n",
    "                \n",
    "                if this_is_not_a_drill:\n",
    "                    y_train_pred = model.predict(X_train_scaled)\n",
    "                    y_test_pred = model.predict(X_test_scaled)\n",
    "\n",
    "                    train_value = r2_score(y_train, y_train_pred)\n",
    "                    test_value = r2_score(y_test, y_test_pred)\n",
    "\n",
    "                    train_value_pct = \"{:.2f}\".format(train_value * 100)\n",
    "                    test_value_pct = \"{:.2f}\".format(test_value * 100)\n",
    "                    \n",
    "                else:\n",
    "                    train_value_pct = \"{:.2f}\".format(0.31415926 * 100)\n",
    "                    test_value_pct = \"{:.2f}\".format(0.31415926 * 100)\n",
    "\n",
    "                #print(train_value_pct)\n",
    "                #print(test_value_pct)\n",
    "\n",
    "                epoch_file_name += f\"_{train_value_pct}__{test_value_pct}.h5\"\n",
    "                full_file_name = f\"{base_file_name}{activation_file_name}{multiplier_file_name}{epoch_file_name}\"\n",
    "                \n",
    "                print(f\"Saving Model to File : {full_file_name}\")\n",
    "\n",
    "                if this_is_not_a_drill:\n",
    "                    model.save(full_file_name)\n",
    "                \n",
    "                # Increment for the next iteration of the while-loop\n",
    "                epoch_cnt += epoch_inc\n",
    "\n",
    "print(\"Training Permutations Complete!\")\n"
   ]
  },
  {
   "cell_type": "code",
   "execution_count": null,
   "metadata": {},
   "outputs": [],
   "source": [
    "### Use and modify this command in your bash window to find the best performers\n",
    "# ls -salt *__85.[0-9][0-9].h5"
   ]
  }
 ],
 "metadata": {
  "kernelspec": {
   "display_name": "Python 3",
   "language": "python",
   "name": "python3"
  },
  "language_info": {
   "codemirror_mode": {
    "name": "ipython",
    "version": 3
   },
   "file_extension": ".py",
   "mimetype": "text/x-python",
   "name": "python",
   "nbconvert_exporter": "python",
   "pygments_lexer": "ipython3",
   "version": "3.6.12"
  },
  "varInspector": {
   "cols": {
    "lenName": 16,
    "lenType": 16,
    "lenVar": 40
   },
   "kernels_config": {
    "python": {
     "delete_cmd_postfix": "",
     "delete_cmd_prefix": "del ",
     "library": "var_list.py",
     "varRefreshCmd": "print(var_dic_list())"
    },
    "r": {
     "delete_cmd_postfix": ") ",
     "delete_cmd_prefix": "rm(",
     "library": "var_list.r",
     "varRefreshCmd": "cat(var_dic_list()) "
    }
   },
   "types_to_exclude": [
    "module",
    "function",
    "builtin_function_or_method",
    "instance",
    "_Feature"
   ],
   "window_display": false
  }
 },
 "nbformat": 4,
 "nbformat_minor": 4
}
